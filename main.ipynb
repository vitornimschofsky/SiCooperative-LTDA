{
 "cells": [
  {
   "cell_type": "markdown",
   "metadata": {},
   "source": [
    "Instalar o Faker"
   ]
  },
  {
   "cell_type": "code",
   "execution_count": null,
   "metadata": {
    "vscode": {
     "languageId": "plaintext"
    }
   },
   "outputs": [],
   "source": [
    "pip install faker"
   ]
  },
  {
   "cell_type": "code",
   "execution_count": null,
   "metadata": {
    "vscode": {
     "languageId": "plaintext"
    }
   },
   "outputs": [],
   "source": [
    "from faker import Faker\n",
    "import mysql.connector\n",
    "import random\n",
    "\n",
    "# Inicializa o Faker\n",
    "fake = Faker()\n",
    "\n",
    "# Conectar ao MySQL\n",
    "connection = mysql.connector.connect(\n",
    "    host='localhost',  # Ou o IP do seu Docker\n",
    "    user='root',\n",
    "    password='rootpassword',\n",
    "    database='sicooperative'\n",
    ")\n",
    "cursor = connection.cursor()\n",
    "\n",
    "# Gerar dados na tabela 'associado'\n",
    "num_associados = random.randint(50, 100)  # Entre 50 e 100 associados\n",
    "\n",
    "for _ in range(num_associados):\n",
    "    nome = fake.first_name()\n",
    "    sobrenome = fake.last_name()\n",
    "    idade = fake.random_int(min=18, max=80)\n",
    "    email = fake.email()\n",
    "\n",
    "    cursor.execute(\n",
    "        \"INSERT INTO associado (nome, sobrenome, idade, email) VALUES (%s, %s, %s, %s)\",\n",
    "        (nome, sobrenome, idade, email)\n",
    "    )\n",
    "\n",
    "# Gerar dados na tabela 'conta'\n",
    "num_contas = 0\n",
    "for i in range(num_associados):\n",
    "    num_contas_associado = random.randint(1, 3)  # Cada associado tem entre 1 e 3 contas\n",
    "    for _ in range(num_contas_associado):\n",
    "        tipo = fake.random_choice(['corrente', 'poupança'])\n",
    "        data_criacao = fake.date_this_decade()\n",
    "        \n",
    "        id_associado = i + 1  # Associando com o ID do associado\n",
    "\n",
    "        cursor.execute(\n",
    "            \"INSERT INTO conta (tipo, data_criacao, id_associado) VALUES (%s, %s, %s)\",\n",
    "            (tipo, data_criacao, id_associado)\n",
    "        )\n",
    "        num_contas += 1\n",
    "\n",
    "# Gerar dados na tabela 'cartao'\n",
    "num_cartoes = 0\n",
    "for i in range(num_contas):\n",
    "    num_cartao_associado = random.randint(1, 2)  # Cada conta pode ter entre 1 e 2 cartões\n",
    "    for _ in range(num_cartao_associado):\n",
    "        num_cartao = fake.credit_card_number()\n",
    "        nom_impresso = fake.name()\n",
    "        id_conta = i + 1  # Associando com o ID da conta\n",
    "        id_associado = fake.random_int(min=1, max=num_associados)  # Associa a um associado qualquer\n",
    "\n",
    "        cursor.execute(\n",
    "            \"INSERT INTO cartao (num_cartao, nom_impresso, id_conta, id_associado) VALUES (%s, %s, %s, %s)\",\n",
    "            (num_cartao, nom_impresso, id_conta, id_associado)\n",
    "        )\n",
    "        num_cartoes += 1\n",
    "\n",
    "# Gerar dados na tabela 'movimento'\n",
    "num_movimentos = 0\n",
    "for i in range(num_cartoes):\n",
    "    num_movimentos_cartao = random.randint(5, 20)  # Cada cartão pode ter entre 5 e 20 movimentações\n",
    "    for _ in range(num_movimentos_cartao):\n",
    "        vlr_transacao = fake.random_number(digits=5)\n",
    "        des_transacao = fake.bs()  # Descrição fictícia da transação\n",
    "        data_movimento = fake.date_this_year()\n",
    "        id_cartao = i + 1  # Associando com o ID do cartão\n",
    "\n",
    "        cursor.execute(\n",
    "            \"INSERT INTO movimento (vlr_transacao, des_transacao, data_movimento, id_cartao) VALUES (%s, %s, %s, %s)\",\n",
    "            (vlr_transacao, des_transacao, data_movimento, id_cartao)\n",
    "        )\n",
    "        num_movimentos += 1\n",
    "\n",
    "# Commit e fechar conexão\n",
    "connection.commit()\n",
    "cursor.close()\n",
    "connection.close()\n",
    "\n",
    "print(f\"{num_associados} associados, {num_contas} contas, {num_cartoes} cartões e {num_movimentos} movimentações foram inseridos nas tabelas com sucesso!\")\n"
   ]
  },
  {
   "cell_type": "code",
   "execution_count": null,
   "metadata": {
    "vscode": {
     "languageId": "plaintext"
    }
   },
   "outputs": [],
   "source": [
    "jdbc_url = \"jdbc:mysql://localhost:3306/sicooperative\"\n",
    "properties = {\n",
    "    \"user\": \"root\",\n",
    "    \"password\": \"rootpassword\",\n",
    "    \"driver\": \"com.mysql.cj.jdbc.Driver\"\n",
    "}\n",
    "\n",
    "# Ler as tabelas no MySQL\n",
    "df_associado = spark.read.jdbc(url=jdbc_url, table=\"associado\", properties=properties)\n",
    "df_conta = spark.read.jdbc(url=jdbc_url, table=\"conta\", properties=properties)\n",
    "df_cartao = spark.read.jdbc(url=jdbc_url, table=\"cartao\", properties=properties)\n",
    "df_movimento = spark.read.jdbc(url=jdbc_url, table=\"movimento\", properties=properties)\n"
   ]
  },
  {
   "cell_type": "code",
   "execution_count": null,
   "metadata": {
    "vscode": {
     "languageId": "plaintext"
    }
   },
   "outputs": [],
   "source": [
    "df = df_associado \\\n",
    "    .join(df_conta, df_associado.id == df_conta.id_associado) \\\n",
    "    .join(df_cartao, df_conta.id == df_cartao.id_conta) \\\n",
    "    .join(df_movimento, df_cartao.id == df_movimento.id_cartao) \\\n",
    "    .select(\n",
    "        df_associado.nome.alias(\"nome_associado\"),\n",
    "        df_associado.sobrenome.alias(\"sobrenome_associado\"),\n",
    "        df_associado.idade.alias(\"idade_associado\"),\n",
    "        df_movimento.vlr_transacao.alias(\"vlr_transacao_movimento\"),\n",
    "        df_movimento.des_transacao.alias(\"des_transacao_movimento\"),\n",
    "        df_movimento.data_movimento.alias(\"data_movimento\"),\n",
    "        df_cartao.num_cartao.alias(\"numero_cartao\"),\n",
    "        df_cartao.nom_impresso.alias(\"nome_impresso_cartao\"),\n",
    "        df_conta.data_criacao.alias(\"data_criacao_cartao\"),\n",
    "        df_conta.tipo.alias(\"tipo_conta\"),\n",
    "        df_conta.data_criacao.alias(\"data_criacao_conta\")\n",
    "    )\n",
    "\n",
    "# Salvar como CSV\n",
    "df.write.option(\"header\", \"true\").csv(\"/dbfs/tmp/movimento_flat.csv\")\n"
   ]
  }
 ],
 "metadata": {
  "language_info": {
   "name": "python"
  }
 },
 "nbformat": 4,
 "nbformat_minor": 2
}
